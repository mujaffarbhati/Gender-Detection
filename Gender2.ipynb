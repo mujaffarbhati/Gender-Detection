{
 "cells": [
  {
   "cell_type": "code",
   "execution_count": 1,
   "id": "7588c090",
   "metadata": {},
   "outputs": [],
   "source": [
    "from tensorflow.keras.models import Sequential\n",
    "from tensorflow.keras.layers import Dense, Dropout, Activation, Flatten\n",
    "from tensorflow.keras.layers import Conv2D, MaxPooling2D\n",
    "from tensorflow.keras.callbacks import TensorBoard\n",
    "import pickle\n",
    "import time\n",
    "import numpy as np"
   ]
  },
  {
   "cell_type": "code",
   "execution_count": 2,
   "id": "b73f9fab",
   "metadata": {},
   "outputs": [
    {
     "name": "stdout",
     "output_type": "stream",
     "text": [
      "Epoch 1/10\n",
      "1029/1029 [==============================] - 117s 111ms/step - loss: 0.3221 - accuracy: 0.8614 - val_loss: 0.2318 - val_accuracy: 0.9089\n",
      "Epoch 2/10\n",
      "1029/1029 [==============================] - 138s 134ms/step - loss: 0.2010 - accuracy: 0.9245 - val_loss: 0.2256 - val_accuracy: 0.9104\n",
      "Epoch 3/10\n",
      "1029/1029 [==============================] - 143s 139ms/step - loss: 0.1688 - accuracy: 0.9373 - val_loss: 0.1672 - val_accuracy: 0.9346\n",
      "Epoch 4/10\n",
      "1029/1029 [==============================] - 143s 139ms/step - loss: 0.1459 - accuracy: 0.9451 - val_loss: 0.1619 - val_accuracy: 0.9392\n",
      "Epoch 5/10\n",
      "1029/1029 [==============================] - 136s 132ms/step - loss: 0.1309 - accuracy: 0.9525 - val_loss: 0.1624 - val_accuracy: 0.9384\n",
      "Epoch 6/10\n",
      "1029/1029 [==============================] - 136s 132ms/step - loss: 0.1192 - accuracy: 0.9562 - val_loss: 0.1643 - val_accuracy: 0.9393\n",
      "Epoch 7/10\n",
      "1029/1029 [==============================] - 122s 118ms/step - loss: 0.1098 - accuracy: 0.9599 - val_loss: 0.1476 - val_accuracy: 0.9474\n",
      "Epoch 8/10\n",
      "1029/1029 [==============================] - 127s 123ms/step - loss: 0.0980 - accuracy: 0.9643 - val_loss: 0.1529 - val_accuracy: 0.9452\n",
      "Epoch 9/10\n",
      "1029/1029 [==============================] - 112s 109ms/step - loss: 0.0882 - accuracy: 0.9680 - val_loss: 0.1459 - val_accuracy: 0.9497\n",
      "Epoch 10/10\n",
      "1029/1029 [==============================] - 125s 121ms/step - loss: 0.0786 - accuracy: 0.9718 - val_loss: 0.1598 - val_accuracy: 0.9497\n"
     ]
    },
    {
     "data": {
      "text/plain": [
       "<keras.callbacks.History at 0x20674319720>"
      ]
     },
     "execution_count": 2,
     "metadata": {},
     "output_type": "execute_result"
    }
   ],
   "source": [
    "NAME = \"Female-vs-Male-CNN{}\".format(int(time.time()))\n",
    "tensorboard = TensorBoard(log_dir=\"logs/{}\".format(NAME))\n",
    "\n",
    "pickle_in = open(\"X.pickle\",\"rb\")\n",
    "X = pickle.load(pickle_in)\n",
    "pickle_in = open(\"y.pickle\",\"rb\")\n",
    "y = pickle.load(pickle_in)\n",
    "\n",
    "X = X/255.0\n",
    "\n",
    "model = Sequential()\n",
    "\n",
    "model.add(Conv2D(64, (3, 3), input_shape=X.shape[1:]))\n",
    "model.add(Activation('relu'))\n",
    "model.add(MaxPooling2D(pool_size=(2, 2)))\n",
    "\n",
    "model.add(Conv2D(64, (3, 3)))\n",
    "model.add(Activation('relu'))\n",
    "model.add(MaxPooling2D(pool_size=(2, 2)))\n",
    "\n",
    "\n",
    "model.add(Flatten())  # this converts our 3D feature maps to 1D feature vectors\n",
    "model.add(Dense(64))\n",
    "model.add(Activation('relu'))\n",
    "\n",
    "model.add(Dense(1)) #Output layer , Sigmoid activation\n",
    "model.add(Activation('sigmoid'))\n",
    "\n",
    "model.compile(loss='binary_crossentropy',\n",
    "              optimizer='adam',\n",
    "              metrics=['accuracy'])\n",
    "y = np.array(y)\n",
    "\n",
    "model.fit(X, y, batch_size=32, epochs=10, validation_split=0.3, callbacks=[tensorboard]) #added from the above callback we created for log dir"
   ]
  },
  {
   "cell_type": "code",
   "execution_count": 9,
   "id": "3260aacb",
   "metadata": {},
   "outputs": [
    {
     "name": "stderr",
     "output_type": "stream",
     "text": [
      "WARNING:absl:Found untraced functions such as _jit_compiled_convolution_op, _jit_compiled_convolution_op while saving (showing 2 of 2). These functions will not be directly callable after loading.\n"
     ]
    },
    {
     "name": "stdout",
     "output_type": "stream",
     "text": [
      "INFO:tensorflow:Assets written to: male-female-identifier1\\assets\n"
     ]
    },
    {
     "name": "stderr",
     "output_type": "stream",
     "text": [
      "INFO:tensorflow:Assets written to: male-female-identifier1\\assets\n"
     ]
    }
   ],
   "source": [
    "model.save(\"male-female-identifier1\")"
   ]
  },
  {
   "cell_type": "code",
   "execution_count": 26,
   "id": "07d0304c",
   "metadata": {},
   "outputs": [
    {
     "name": "stdout",
     "output_type": "stream",
     "text": [
      "1/1 [==============================] - 0s 62ms/step\n",
      "[[1.]]\n",
      "Its a male\n"
     ]
    }
   ],
   "source": [
    "import cv2\n",
    "import tensorflow as tf\n",
    "\n",
    "CATEGORIES = [\"Its a female\",\"Its a male\"]\n",
    "\n",
    "\n",
    "def prepare(filepath):\n",
    "    IMG_SIZE = 50  # 50 in txt-based\n",
    "    img_array = cv2.imread(filepath, cv2.IMREAD_GRAYSCALE)\n",
    "    new_array = cv2.resize(img_array, (IMG_SIZE, IMG_SIZE))\n",
    "    return new_array.reshape(-1, IMG_SIZE, IMG_SIZE, 1)\n",
    "\n",
    "\n",
    "model = tf.keras.models.load_model(\"male-female-identifier1\")\n",
    "\n",
    "prediction = model.predict([prepare(\"test4.png\")])\n",
    "print(prediction)  # will be a list in a list.\n",
    "print(CATEGORIES[int(prediction[0][0])])\n"
   ]
  },
  {
   "cell_type": "code",
   "execution_count": null,
   "id": "55f2e7e0",
   "metadata": {},
   "outputs": [],
   "source": []
  },
  {
   "cell_type": "code",
   "execution_count": null,
   "id": "e6f2859e",
   "metadata": {},
   "outputs": [],
   "source": []
  }
 ],
 "metadata": {
  "kernelspec": {
   "display_name": "Python 3 (ipykernel)",
   "language": "python",
   "name": "python3"
  },
  "language_info": {
   "codemirror_mode": {
    "name": "ipython",
    "version": 3
   },
   "file_extension": ".py",
   "mimetype": "text/x-python",
   "name": "python",
   "nbconvert_exporter": "python",
   "pygments_lexer": "ipython3",
   "version": "3.10.5"
  }
 },
 "nbformat": 4,
 "nbformat_minor": 5
}
